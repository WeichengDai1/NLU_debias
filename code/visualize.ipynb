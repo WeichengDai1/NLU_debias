{
 "cells": [
  {
   "cell_type": "code",
   "execution_count": 1,
   "metadata": {},
   "outputs": [],
   "source": [
    "import torch\n",
    "import numpy as np\n",
    "from sklearn.decomposition import PCA "
   ]
  },
  {
   "cell_type": "code",
   "execution_count": 2,
   "metadata": {},
   "outputs": [],
   "source": [
    "from MyModel_EEC import RoBERTa, RoBERTa_vis\n",
    "torch.hub._validate_not_a_forked_repo=lambda a,b,c: True"
   ]
  },
  {
   "cell_type": "code",
   "execution_count": 3,
   "metadata": {},
   "outputs": [
    {
     "name": "stderr",
     "output_type": "stream",
     "text": [
      "Downloading: \"https://github.com/pytorch/fairseq/archive/master.zip\" to /home/weicheng/.cache/torch/hub/master.zip\n",
      "2023-05-06 14:38:04 | INFO | fairseq.file_utils | loading archive file http://dl.fbaipublicfiles.com/fairseq/models/roberta.base.tar.gz from cache at /home/weicheng/.cache/torch/pytorch_fairseq/37d2bc14cf6332d61ed5abeb579948e6054e46cc724c7d23426382d11a31b2d6.ae5852b4abc6bf762e0b6b30f19e741aa05562471e9eb8f4a6ae261f04f9b350\n",
      "2023-05-06 14:38:06 | INFO | fairseq.tasks.masked_lm | dictionary: 50264 types\n",
      "2023-05-06 14:38:08 | INFO | fairseq.models.roberta.model | {'_name': None, 'common': {'_name': None, 'no_progress_bar': False, 'log_interval': 25, 'log_format': 'json', 'log_file': None, 'aim_repo': None, 'aim_run_hash': None, 'tensorboard_logdir': None, 'wandb_project': None, 'azureml_logging': False, 'seed': 1, 'cpu': False, 'tpu': False, 'bf16': False, 'memory_efficient_bf16': False, 'fp16': True, 'memory_efficient_fp16': True, 'fp16_no_flatten_grads': False, 'fp16_init_scale': 4, 'fp16_scale_window': 128, 'fp16_scale_tolerance': 0.0, 'on_cpu_convert_precision': False, 'min_loss_scale': 0.0001, 'threshold_loss_scale': 1.0, 'amp': False, 'amp_batch_retries': 2, 'amp_init_scale': 128, 'amp_scale_window': None, 'user_dir': None, 'empty_cache_freq': 0, 'all_gather_list_size': 16384, 'model_parallel_size': 1, 'quantization_config_path': None, 'profile': False, 'reset_logging': False, 'suppress_crashes': False, 'use_plasma_view': False, 'plasma_path': '/tmp/plasma'}, 'common_eval': {'_name': None, 'path': None, 'post_process': None, 'quiet': False, 'model_overrides': '{}', 'results_path': None}, 'distributed_training': {'_name': None, 'distributed_world_size': 512, 'distributed_num_procs': 2, 'distributed_rank': 0, 'distributed_backend': 'nccl', 'distributed_init_method': None, 'distributed_port': 19812, 'device_id': 0, 'distributed_no_spawn': False, 'ddp_backend': 'c10d', 'ddp_comm_hook': 'none', 'bucket_cap_mb': 200, 'fix_batches_to_gpus': False, 'find_unused_parameters': True, 'gradient_as_bucket_view': False, 'fast_stat_sync': False, 'heartbeat_timeout': -1, 'broadcast_buffers': False, 'slowmo_momentum': None, 'slowmo_base_algorithm': 'localsgd', 'localsgd_frequency': 3, 'nprocs_per_node': 2, 'pipeline_model_parallel': False, 'pipeline_balance': None, 'pipeline_devices': None, 'pipeline_chunks': 0, 'pipeline_encoder_balance': None, 'pipeline_encoder_devices': None, 'pipeline_decoder_balance': None, 'pipeline_decoder_devices': None, 'pipeline_checkpoint': 'never', 'zero_sharding': 'none', 'fp16': True, 'memory_efficient_fp16': True, 'tpu': True, 'no_reshard_after_forward': False, 'fp32_reduce_scatter': False, 'cpu_offload': False, 'use_sharded_state': False, 'not_fsdp_flatten_parameters': False}, 'dataset': {'_name': None, 'num_workers': 2, 'skip_invalid_size_inputs_valid_test': True, 'max_tokens': 999999, 'batch_size': None, 'required_batch_size_multiple': 1, 'required_seq_len_multiple': 1, 'dataset_impl': 'mmap', 'data_buffer_size': 10, 'train_subset': 'train', 'valid_subset': 'valid', 'combine_valid_subsets': None, 'ignore_unused_valid_subsets': False, 'validate_interval': 1, 'validate_interval_updates': 0, 'validate_after_updates': 0, 'fixed_validation_seed': None, 'disable_validation': False, 'max_tokens_valid': 999999, 'batch_size_valid': None, 'max_valid_steps': None, 'curriculum': 0, 'gen_subset': 'test', 'num_shards': 1, 'shard_id': 0, 'grouped_shuffling': False, 'update_epoch_batch_itr': True, 'update_ordered_indices_seed': False}, 'optimization': {'_name': None, 'max_epoch': 0, 'max_update': 500000, 'stop_time_hours': 0.0, 'clip_norm': 0.0, 'sentence_avg': False, 'update_freq': [1], 'lr': [0.0006], 'stop_min_lr': -1.0, 'use_bmuf': False, 'skip_remainder_batch': False}, 'checkpoint': {'_name': None, 'save_dir': 'checkpoints', 'restore_file': 'checkpoint_last.pt', 'continue_once': None, 'finetune_from_model': None, 'reset_dataloader': True, 'reset_lr_scheduler': False, 'reset_meters': False, 'reset_optimizer': False, 'optimizer_overrides': '{}', 'save_interval': 1, 'save_interval_updates': 2000, 'keep_interval_updates': -1, 'keep_interval_updates_pattern': -1, 'keep_last_epochs': -1, 'keep_best_checkpoints': -1, 'no_save': False, 'no_epoch_checkpoints': True, 'no_last_checkpoints': False, 'no_save_optimizer_state': False, 'best_checkpoint_metric': 'loss', 'maximize_best_checkpoint_metric': False, 'patience': -1, 'checkpoint_suffix': '', 'checkpoint_shard_count': 1, 'load_checkpoint_on_all_dp_ranks': False, 'write_checkpoints_asynchronously': False, 'model_parallel_size': 1}, 'bmuf': {'_name': None, 'block_lr': 1.0, 'block_momentum': 0.875, 'global_sync_iter': 10, 'warmup_iterations': 500, 'use_nbm': False, 'average_sync': False, 'distributed_world_size': 512}, 'generation': {'_name': None, 'beam': 5, 'nbest': 1, 'max_len_a': 0.0, 'max_len_b': 200, 'min_len': 1, 'match_source_len': False, 'unnormalized': False, 'no_early_stop': False, 'no_beamable_mm': False, 'lenpen': 1.0, 'unkpen': 0.0, 'replace_unk': None, 'sacrebleu': False, 'score_reference': False, 'prefix_size': 0, 'no_repeat_ngram_size': 0, 'sampling': False, 'sampling_topk': -1, 'sampling_topp': -1.0, 'constraints': None, 'temperature': 1.0, 'diverse_beam_groups': -1, 'diverse_beam_strength': 0.5, 'diversity_rate': -1.0, 'print_alignment': None, 'print_step': False, 'lm_path': None, 'lm_weight': 0.0, 'iter_decode_eos_penalty': 0.0, 'iter_decode_max_iter': 10, 'iter_decode_force_max_iter': False, 'iter_decode_with_beam': 1, 'iter_decode_with_external_reranker': False, 'retain_iter_history': False, 'retain_dropout': False, 'retain_dropout_modules': None, 'decoding_format': None, 'no_seed_provided': False, 'eos_token': None}, 'eval_lm': {'_name': None, 'output_word_probs': False, 'output_word_stats': False, 'context_window': 0, 'softmax_batch': 9223372036854775807}, 'interactive': {'_name': None, 'buffer_size': 0, 'input': '-'}, 'model': Namespace(_name='roberta_base', activation_dropout=0.0, activation_fn='gelu', adam_betas='(0.9, 0.98)', adam_eps=1e-06, adaptive_input=False, arch='roberta_base', attention_dropout=0.1, best_checkpoint_metric='loss', bpe='gpt2', bucket_cap_mb=200, clip_norm=0.0, cpu=False, criterion='masked_lm', curriculum=0, data='/home/weicheng/.cache/torch/pytorch_fairseq/37d2bc14cf6332d61ed5abeb579948e6054e46cc724c7d23426382d11a31b2d6.ae5852b4abc6bf762e0b6b30f19e741aa05562471e9eb8f4a6ae261f04f9b350', dataset_impl='mmap', ddp_backend='c10d', device_id=0, disable_validation=False, distributed_backend='nccl', distributed_no_spawn=False, distributed_port=19812, distributed_rank=0, distributed_world_size=512, dropout=0.1, encoder_attention_heads=12, encoder_embed_dim=768, encoder_ffn_embed_dim=3072, encoder_layerdrop=0, encoder_layers=12, encoder_layers_to_keep=None, encoder_learned_pos=True, encoder_normalize_before=False, end_learning_rate=0.0, ffn_blocks_to_remove=-1, ffn_reg_scale_factor=0.0, find_unused_parameters=True, fix_batches_to_gpus=False, force_anneal=None, fp16=True, fp16_init_scale=4, fp16_scale_tolerance=0.0, fp16_scale_window=128, global_sync_iter=10, keep_interval_updates=-1, keep_last_epochs=-1, layernorm_embedding=True, leave_unmasked_prob=0.1, load_checkpoint_heads=True, log_format='json', log_interval=25, lr=[0.0006], lr_scheduler='polynomial_decay', mask_prob=0.15, max_epoch=0, max_positions=512, max_sentences=16, max_sentences_valid=16, max_source_positions=512, max_target_positions=512, max_tokens=999999, max_update=500000, maximize_best_checkpoint_metric=False, memory_efficient_fp16=True, mha_heads_to_keep=-1, mha_reg_scale_factor=0.0, min_loss_scale=0.0001, min_params_to_wrap=100000000, no_epoch_checkpoints=True, no_last_checkpoints=False, no_progress_bar=False, no_save=False, no_save_optimizer_state=False, no_scale_embedding=True, no_token_positional_embeddings=False, num_workers=2, only_validate=False, optimizer='adam', optimizer_overrides='{}', pooler_activation_fn='tanh', pooler_dropout=0.0, power=1.0, quant_noise_pq=0, quant_noise_pq_block_size=8, quant_noise_scalar=0, random_token_prob=0.1, required_batch_size_multiple=1, reset_dataloader=True, reset_lr_scheduler=False, reset_meters=False, reset_optimizer=False, restore_file='checkpoint_last.pt', sample_break_mode='complete', save_interval=1, save_interval_updates=2000, seed=1, sentence_avg=False, skip_invalid_size_inputs_valid_test=True, spectral_norm_classification_head=False, stop_min_lr=-1, task='masked_lm', tbmf_wrapper=False, threshold_loss_scale=1.0, tokenizer=None, tokens_per_sample=512, total_num_update=500000, train_subset='train', untie_weights_roberta=False, update_freq=[1], use_bmuf=False, user_dir=None, valid_subset='valid', validate_interval=1, warmup_updates=24000, weight_decay=0.01), 'task': {'_name': 'masked_lm', 'data': '/home/weicheng/.cache/torch/pytorch_fairseq/37d2bc14cf6332d61ed5abeb579948e6054e46cc724c7d23426382d11a31b2d6.ae5852b4abc6bf762e0b6b30f19e741aa05562471e9eb8f4a6ae261f04f9b350', 'sample_break_mode': 'complete', 'tokens_per_sample': 512, 'mask_prob': 0.15, 'leave_unmasked_prob': 0.1, 'random_token_prob': 0.1, 'freq_weighted_replacement': False, 'mask_whole_words': False, 'mask_multiple_length': 1, 'mask_stdev': 0.0, 'shorten_method': 'none', 'shorten_data_split_list': '', 'seed': 1, 'include_target_tokens': False}, 'criterion': {'_name': 'masked_lm', 'tpu': True}, 'optimizer': {'_name': 'adam', 'adam_betas': '(0.9, 0.98)', 'adam_eps': 1e-06, 'weight_decay': 0.01, 'use_old_adam': False, 'fp16_adam_stats': False, 'tpu': True, 'lr': [0.0006]}, 'lr_scheduler': {'_name': 'polynomial_decay', 'warmup_updates': 24000, 'force_anneal': None, 'end_learning_rate': 0.0, 'power': 1.0, 'total_num_update': 500000.0, 'lr': [0.0006]}, 'scoring': None, 'bpe': {'_name': 'gpt2', 'gpt2_encoder_json': 'https://dl.fbaipublicfiles.com/fairseq/gpt2_bpe/encoder.json', 'gpt2_vocab_bpe': 'https://dl.fbaipublicfiles.com/fairseq/gpt2_bpe/vocab.bpe'}, 'tokenizer': None, 'ema': {'_name': None, 'store_ema': False, 'ema_decay': 0.9999, 'ema_start_update': 0, 'ema_seed_model': None, 'ema_update_freq': 1, 'ema_fp32': False}}\n"
     ]
    },
    {
     "name": "stdout",
     "output_type": "stream",
     "text": [
      "Model Loaded.\n"
     ]
    }
   ],
   "source": [
    "import os\n",
    "os.environ['CUDA_VISIBLE_DEVICES']='1'\n",
    "\n",
    "model = RoBERTa_vis()"
   ]
  },
  {
   "cell_type": "code",
   "execution_count": 29,
   "metadata": {},
   "outputs": [
    {
     "data": {
      "text/plain": [
       "<All keys matched successfully>"
      ]
     },
     "execution_count": 29,
     "metadata": {},
     "output_type": "execute_result"
    }
   ],
   "source": [
    "\n",
    "model.load_state_dict(torch.load('/home/weicheng/NLU/NLU_debias/saves_roberta_in/RoBERTa_EL_oc_model_pt_epoch_18.pt', map_location='cpu'))"
   ]
  },
  {
   "cell_type": "code",
   "execution_count": 30,
   "metadata": {},
   "outputs": [],
   "source": [
    "# roberta = torch.hub.load('pytorch/fairseq', 'roberta.base')\n",
    "roberta = model.roberta"
   ]
  },
  {
   "cell_type": "code",
   "execution_count": 31,
   "metadata": {},
   "outputs": [],
   "source": [
    "text_male = 'he son his him father man boy himself male brother sons fathers men boys males brothers uncle uncles nephew nephews'\n",
    "text_female = 'she daughter hers her mother woman girl herself female sister daughters mothers women girls females sisters aunt aunts niece nieces'"
   ]
  },
  {
   "cell_type": "code",
   "execution_count": 32,
   "metadata": {},
   "outputs": [],
   "source": [
    "text_male = 'he son his him father man boy himself male brother'\n",
    "text_female = 'she daughter hers her mother woman girl herself female sister'"
   ]
  },
  {
   "cell_type": "code",
   "execution_count": 33,
   "metadata": {},
   "outputs": [
    {
     "name": "stdout",
     "output_type": "stream",
     "text": [
      "he she son daughter his hers him her father mother man woman boy girl himself herself male female brother sister\n"
     ]
    }
   ],
   "source": [
    "text_male = text_male.split(' ')\n",
    "text_female = text_female.split(' ')\n",
    "\n",
    "new_ls=[ ]\n",
    "for i in range(len(text_male)):\n",
    "    new_ls.append(text_male[i] + ' ' + text_female[i])\n",
    "\n",
    "# print(new_ls)\n",
    "new_ls = ' '.join(new_ls)\n",
    "print(new_ls)\n",
    "# tokens = roberta.encode(text)\n",
    "# print(roberta.decode(tokens))\n"
   ]
  },
  {
   "cell_type": "code",
   "execution_count": 34,
   "metadata": {},
   "outputs": [
    {
     "name": "stdout",
     "output_type": "stream",
     "text": [
      "he she son daughter his hers him her father mother man woman boy girl himself herself male female brother sister\n",
      "torch.Size([1, 22, 768])\n"
     ]
    }
   ],
   "source": [
    "tokens = roberta.encode(new_ls)\n",
    "print(roberta.decode(tokens))\n",
    "last_layer_features = roberta.extract_features(tokens)\n",
    "print(last_layer_features.shape)"
   ]
  },
  {
   "cell_type": "code",
   "execution_count": 35,
   "metadata": {},
   "outputs": [
    {
     "data": {
      "text/plain": [
       "torch.Size([1, 20, 768])"
      ]
     },
     "execution_count": 35,
     "metadata": {},
     "output_type": "execute_result"
    }
   ],
   "source": [
    "last_layer_features[0:1, 1:-1].shape"
   ]
  },
  {
   "cell_type": "code",
   "execution_count": 36,
   "metadata": {},
   "outputs": [],
   "source": [
    "def doPCA(pairs, num_components=10):\n",
    "    matrix = []\n",
    "    for i in range(0, len(pairs)-1, 2):\n",
    "        a = pairs[i]\n",
    "        b = pairs[i+1]\n",
    "    # for a, b in pairs:\n",
    "        center = (a+b)/2\n",
    "        matrix.append(a-center)\n",
    "        matrix.append(b-center)\n",
    "    matrix = np.array(matrix)\n",
    "    pca = PCA(n_components=num_components)\n",
    "    pca.fit(matrix)\n",
    "    return pca"
   ]
  },
  {
   "cell_type": "code",
   "execution_count": 37,
   "metadata": {},
   "outputs": [],
   "source": [
    "pca = doPCA(last_layer_features[0, 1:-1].detach().numpy(), 2)"
   ]
  },
  {
   "cell_type": "code",
   "execution_count": 38,
   "metadata": {},
   "outputs": [
    {
     "data": {
      "text/plain": [
       "(2, 768)"
      ]
     },
     "execution_count": 38,
     "metadata": {},
     "output_type": "execute_result"
    }
   ],
   "source": [
    "pca.components_.shape"
   ]
  },
  {
   "cell_type": "code",
   "execution_count": 39,
   "metadata": {},
   "outputs": [],
   "source": [
    "import matplotlib.pyplot as plt"
   ]
  },
  {
   "cell_type": "code",
   "execution_count": 15,
   "metadata": {},
   "outputs": [],
   "source": [
    "## TODO: \n",
    "# def ss_calculation(text_words):\n",
    "    "
   ]
  },
  {
   "cell_type": "code",
   "execution_count": 40,
   "metadata": {},
   "outputs": [
    {
     "name": "stdout",
     "output_type": "stream",
     "text": [
      "38\n",
      "40\n",
      "['', ' angry', ' furious', ' irritated', ' enraged', ' annoyed', ' sad', ' depressed', ' devastated', ' miserable', ' disappointed', ' terrified', ' discouraged', ' scared', ' anxious', ' fearful', ' happy', ' ecstatic', ' glad', ' relieved', ' excited', ' irritating', ' outrageous', ' annoying', ' depressing', ' serious', ' grim', ' heartbreaking', ' gloomy', ' horrible', ' threatening', ' terrifying', ' shocking', ' dreadful', ' funny', ' hilarious', ' amazing', ' wonderful', ' great', '']\n"
     ]
    }
   ],
   "source": [
    "text_words = 'joy sad pride'\n",
    "\n",
    "emotion_word_dict= {'joy': ['ecstatic', 'excited', 'glad', 'happy', 'relieved'],\n",
    "                    'sadness': ['depressed', 'devastated', 'disappointed', 'miserable', 'sad'],\n",
    "                    'fear': ['anxious', 'discouraged', 'fearful', 'scared', 'terrified'],\n",
    "                    'anger': ['angry', 'annoyed', 'enraged', 'furious', 'irritated']}\n",
    "\n",
    "emotional_situation_word_dict= {'joy': ['amazing', 'funny', 'great', 'hilarious', 'wonderful'],\n",
    "                                'sadness': ['depressing', 'gloomy', 'grim', 'heartbreaking', 'serious'],\n",
    "                                'fear': ['dreadful', 'horrible', 'shocking', 'terrifying', 'threatening'],\n",
    "                                'anger': ['annoying', 'displeasing', 'irritating', 'outrageous', 'vexing']}\n",
    "\n",
    "text_words = [' angry', 'furious', 'irritated', 'enraged', 'annoyed', 'sad',\n",
    "       'depressed', 'devastated', 'miserable', 'disappointed',\n",
    "       'terrified', 'discouraged', 'scared', 'anxious', 'fearful',\n",
    "       'happy', 'ecstatic', 'glad', 'relieved', 'excited', \n",
    "       'irritating', 'outrageous', 'annoying',\n",
    "       'depressing', 'serious', 'grim', 'heartbreaking', 'gloomy',\n",
    "       'horrible', 'threatening', 'terrifying', 'shocking', 'dreadful',\n",
    "       'funny', 'hilarious', 'amazing', 'wonderful', 'great']\n",
    "\n",
    "# 'vexing', 'displeasing'\n",
    "\n",
    "print(len(text_words))\n",
    "text_words = ' '.join(text_words)\n",
    "# for i in range(len(text_words)):\n",
    "# word = text_words[i]\n",
    "tokens = roberta.encode(text_words)\n",
    "print(len(tokens))\n",
    "# print(roberta.decode(tokens))\n",
    "print([roberta.decode(t.unsqueeze(0)) for t in tokens])\n",
    "# print(roberta.decode(tokens))\n",
    "last_layer_features = roberta.extract_features(tokens)"
   ]
  },
  {
   "cell_type": "code",
   "execution_count": 41,
   "metadata": {},
   "outputs": [
    {
     "name": "stdout",
     "output_type": "stream",
     "text": [
      "['', ' angry', '']\n"
     ]
    }
   ],
   "source": [
    "tens = torch.tensor([0, 5800, 0])\n",
    "print([roberta.decode(t.unsqueeze(0)) for t in tens])"
   ]
  },
  {
   "cell_type": "code",
   "execution_count": 42,
   "metadata": {},
   "outputs": [
    {
     "data": {
      "text/plain": [
       "torch.Size([1, 40, 768])"
      ]
     },
     "execution_count": 42,
     "metadata": {},
     "output_type": "execute_result"
    }
   ],
   "source": [
    "last_layer_features.shape"
   ]
  },
  {
   "cell_type": "code",
   "execution_count": 43,
   "metadata": {},
   "outputs": [],
   "source": [
    "new_word = last_layer_features[:, 1:-1, :]"
   ]
  },
  {
   "cell_type": "code",
   "execution_count": 45,
   "metadata": {},
   "outputs": [],
   "source": [
    "x_axis, y_axis = pca.components_"
   ]
  },
  {
   "cell_type": "code",
   "execution_count": 46,
   "metadata": {},
   "outputs": [
    {
     "name": "stdout",
     "output_type": "stream",
     "text": [
      "(768,)\n",
      "torch.Size([1, 38, 768])\n"
     ]
    }
   ],
   "source": [
    "print(x_axis.shape)\n",
    "print(new_word.shape)"
   ]
  },
  {
   "cell_type": "code",
   "execution_count": 47,
   "metadata": {},
   "outputs": [],
   "source": [
    "proj_x = torch.matmul(new_word, torch.tensor(x_axis).unsqueeze(1))/torch.norm(torch.tensor(x_axis))"
   ]
  },
  {
   "cell_type": "code",
   "execution_count": 48,
   "metadata": {},
   "outputs": [],
   "source": [
    "proj_x.shape\n",
    "proj_x = proj_x.squeeze().detach().numpy()"
   ]
  },
  {
   "cell_type": "code",
   "execution_count": 49,
   "metadata": {},
   "outputs": [],
   "source": [
    "proj_y = torch.matmul(new_word, torch.tensor(y_axis).unsqueeze(1))/torch.norm(torch.tensor(y_axis))"
   ]
  },
  {
   "cell_type": "code",
   "execution_count": 50,
   "metadata": {},
   "outputs": [],
   "source": [
    "proj_y.shape\n",
    "proj_y = proj_y.squeeze().detach().numpy()"
   ]
  },
  {
   "cell_type": "code",
   "execution_count": 27,
   "metadata": {},
   "outputs": [
    {
     "data": {
      "image/png": "[encoded data removed]",
      "text/plain": [
       "<Figure size 800x800 with 1 Axes>"
      ]
     },
     "metadata": {},
     "output_type": "display_data"
    }
   ],
   "source": [
    "# plt.scatter(proj_x.squeeze().detach().numpy(), proj_y.squeeze().detach().numpy(), \n",
    "#             )\n",
    "reversed = {'ecstatic': 'joy',\n",
    " 'excited': 'joy',\n",
    " 'glad': 'joy',\n",
    " 'happy': 'joy',\n",
    " 'relieved': 'joy',\n",
    " 'depressed': 'sadness',\n",
    " 'devastated': 'sadness',\n",
    " 'disappointed': 'sadness',\n",
    " 'miserable': 'sadness',\n",
    " 'sad': 'sadness',\n",
    " 'anxious': 'fear',\n",
    " 'discouraged': 'fear',\n",
    " 'fearful': 'fear',\n",
    " 'scared': 'fear',\n",
    " 'terrified': 'fear',\n",
    " 'angry': 'anger',\n",
    " 'annoyed': 'anger',\n",
    " 'enraged': 'anger',\n",
    " 'furious': 'anger',\n",
    " 'irritated': 'anger',\n",
    " 'amazing': 'joy',\n",
    " 'funny': 'joy',\n",
    " 'great': 'joy',\n",
    " 'hilarious': 'joy',\n",
    " 'wonderful': 'joy',\n",
    " 'depressing': 'sadness',\n",
    " 'gloomy': 'sadness',\n",
    " 'grim': 'sadness',\n",
    " 'heartbreaking': 'sadness',\n",
    " 'serious': 'sadness',\n",
    " 'dreadful': 'fear',\n",
    " 'horrible': 'fear',\n",
    " 'shocking': 'fear',\n",
    " 'terrifying': 'fear',\n",
    " 'threatening': 'fear',\n",
    " 'annoying': 'anger',\n",
    " 'displeasing': 'anger',\n",
    " 'irritating': 'anger',\n",
    " 'outrageous': 'anger',\n",
    " 'vexing': 'anger'}\n",
    "\n",
    "color = {'fear':'blue', 'anger':'red', 'sadness':'green', 'joy':'orange'}\n",
    "\n",
    "text_words = ['angry', 'furious', 'irritated', 'enraged', 'annoyed', 'sad',\n",
    "       'depressed', 'devastated', 'miserable', 'disappointed',\n",
    "       'terrified', 'discouraged', 'scared', 'anxious', 'fearful',\n",
    "       'happy', 'ecstatic', 'glad', 'relieved', 'excited', \n",
    "       'irritating', 'outrageous', 'annoying',\n",
    "       'depressing', 'serious', 'grim', 'heartbreaking', 'gloomy',\n",
    "       'horrible', 'threatening', 'terrifying', 'shocking', 'dreadful',\n",
    "       'funny', 'hilarious', 'amazing', 'wonderful', 'great']\n",
    "\n",
    "fig, ax = plt.subplots(figsize=(8, 8))\n",
    "# ax.scatter(proj_x, proj_y, \n",
    "#             )\n",
    "for i, txt in enumerate(text_words):\n",
    "    ax.annotate(reversed[txt], (proj_x[i], proj_y[i]))\n",
    "    ax.scatter(proj_x[i], proj_y[i], c=[color[reversed[txt]],])"
   ]
  },
  {
   "cell_type": "code",
   "execution_count": 52,
   "metadata": {},
   "outputs": [
    {
     "data": {
      "image/png": "[encoded data removed]",
      "text/plain": [
       "<Figure size 800x800 with 1 Axes>"
      ]
     },
     "metadata": {},
     "output_type": "display_data"
    }
   ],
   "source": [
    "# plt.scatter(proj_x.squeeze().detach().numpy(), proj_y.squeeze().detach().numpy(), \n",
    "#             )\n",
    "reversed = {'ecstatic': 'joy',\n",
    " 'excited': 'joy',\n",
    " 'glad': 'joy',\n",
    " 'happy': 'joy',\n",
    " 'relieved': 'joy',\n",
    " 'depressed': 'sadness',\n",
    " 'devastated': 'sadness',\n",
    " 'disappointed': 'sadness',\n",
    " 'miserable': 'sadness',\n",
    " 'sad': 'sadness',\n",
    " 'anxious': 'fear',\n",
    " 'discouraged': 'fear',\n",
    " 'fearful': 'fear',\n",
    " 'scared': 'fear',\n",
    " 'terrified': 'fear',\n",
    " 'angry': 'anger',\n",
    " 'annoyed': 'anger',\n",
    " 'enraged': 'anger',\n",
    " 'furious': 'anger',\n",
    " 'irritated': 'anger',\n",
    " 'amazing': 'joy',\n",
    " 'funny': 'joy',\n",
    " 'great': 'joy',\n",
    " 'hilarious': 'joy',\n",
    " 'wonderful': 'joy',\n",
    " 'depressing': 'sadness',\n",
    " 'gloomy': 'sadness',\n",
    " 'grim': 'sadness',\n",
    " 'heartbreaking': 'sadness',\n",
    " 'serious': 'sadness',\n",
    " 'dreadful': 'fear',\n",
    " 'horrible': 'fear',\n",
    " 'shocking': 'fear',\n",
    " 'terrifying': 'fear',\n",
    " 'threatening': 'fear',\n",
    " 'annoying': 'anger',\n",
    " 'displeasing': 'anger',\n",
    " 'irritating': 'anger',\n",
    " 'outrageous': 'anger',\n",
    " 'vexing': 'anger'}\n",
    "\n",
    "text_words = ['angry', 'furious', 'irritated', 'enraged', 'annoyed', 'sad',\n",
    "       'depressed', 'devastated', 'miserable', 'disappointed',\n",
    "       'terrified', 'discouraged', 'scared', 'anxious', 'fearful',\n",
    "       'happy', 'ecstatic', 'glad', 'relieved', 'excited', \n",
    "       'irritating', 'outrageous', 'annoying',\n",
    "       'depressing', 'serious', 'grim', 'heartbreaking', 'gloomy',\n",
    "       'horrible', 'threatening', 'terrifying', 'shocking', 'dreadful',\n",
    "       'funny', 'hilarious', 'amazing', 'wonderful', 'great']\n",
    "\n",
    "# fig, ax = plt.subplots(figsize=(15, 15))\n",
    "\n",
    "# proj_x = (proj_x - proj_x.min()) / (proj_x.max() - proj_x.min())\n",
    "# proj_y = (proj_y - proj_y.min()) / (proj_y.max() - proj_y.min())\n",
    "\n",
    "fig, ax = plt.subplots(figsize=(8, 8))\n",
    "# ax.scatter(proj_x, proj_y, \n",
    "#             )\n",
    "for i, txt in enumerate(text_words):\n",
    "    ax.annotate(reversed[txt], (proj_x[i], proj_y[i]))\n",
    "    ax.scatter(proj_x[i], proj_y[i], c=[color[reversed[txt]],])"
   ]
  },
  {
   "cell_type": "code",
   "execution_count": 3,
   "metadata": {},
   "outputs": [],
   "source": [
    "import pickle \n",
    "import MyData_NER\n",
    "import bert_serving\n",
    "import bert_serving.client\n",
    "import transformers \n",
    "import pandas as pd"
   ]
  },
  {
   "cell_type": "code",
   "execution_count": 10,
   "metadata": {},
   "outputs": [],
   "source": [
    "with open('/home/weicheng/NLU/NLU_debias/saves/RoBERTa_EL_oc_epoch_20.pkl', 'rb') as f:\n",
    "  output = pickle.load(f)"
   ]
  },
  {
   "cell_type": "code",
   "execution_count": 11,
   "metadata": {},
   "outputs": [
    {
     "name": "stdout",
     "output_type": "stream",
     "text": [
      "5\n"
     ]
    }
   ],
   "source": [
    "print(len(output))"
   ]
  },
  {
   "cell_type": "code",
   "execution_count": 12,
   "metadata": {},
   "outputs": [],
   "source": [
    "optimal_result = output[0]"
   ]
  },
  {
   "cell_type": "code",
   "execution_count": 13,
   "metadata": {},
   "outputs": [],
   "source": [
    "test_factual_dict= {'text': [], 'label': list(optimal_result['actual_y'])\\\n",
    "            , 'true_labels': list(optimal_result['true_labels'])\\\n",
    "            , 'anger': [], 'fear': [], 'joy': [], 'sadness': []} \n",
    "for input in optimal_result['actual_x']:\n",
    "  test_factual_dict['text'].append(' '.join(input.split('____')[:-1])+'.')\n",
    "\n",
    "for input in optimal_result['factual_outputs']: \n",
    "  test_factual_dict['anger'].append(input[0]) \n",
    "  test_factual_dict['fear'].append(input[1]) \n",
    "  test_factual_dict['joy'].append(input[2]) \n",
    "  test_factual_dict['sadness'].append(input[3]) \n",
    "\n",
    "test_factual_dt= pd.DataFrame(test_factual_dict) "
   ]
  },
  {
   "cell_type": "code",
   "execution_count": 14,
   "metadata": {},
   "outputs": [
    {
     "data": {
      "text/html": [
       "<div>\n",
       "<style scoped>\n",
       "    .dataframe tbody tr th:only-of-type {\n",
       "        vertical-align: middle;\n",
       "    }\n",
       "\n",
       "    .dataframe tbody tr th {\n",
       "        vertical-align: top;\n",
       "    }\n",
       "\n",
       "    .dataframe thead th {\n",
       "        text-align: right;\n",
       "    }\n",
       "</style>\n",
       "<table border=\"1\" class=\"dataframe\">\n",
       "  <thead>\n",
       "    <tr style=\"text-align: right;\">\n",
       "      <th></th>\n",
       "      <th>text</th>\n",
       "      <th>label</th>\n",
       "      <th>true_labels</th>\n",
       "      <th>anger</th>\n",
       "      <th>fear</th>\n",
       "      <th>joy</th>\n",
       "      <th>sadness</th>\n",
       "    </tr>\n",
       "  </thead>\n",
       "  <tbody>\n",
       "    <tr>\n",
       "      <th>0</th>\n",
       "      <td>alonzo feels.</td>\n",
       "      <td>anger</td>\n",
       "      <td>0</td>\n",
       "      <td>-0.111231</td>\n",
       "      <td>0.153536</td>\n",
       "      <td>-0.136789</td>\n",
       "      <td>-0.151701</td>\n",
       "    </tr>\n",
       "    <tr>\n",
       "      <th>1</th>\n",
       "      <td>alonzo feels.</td>\n",
       "      <td>anger</td>\n",
       "      <td>0</td>\n",
       "      <td>-0.111230</td>\n",
       "      <td>0.153540</td>\n",
       "      <td>-0.136786</td>\n",
       "      <td>-0.151704</td>\n",
       "    </tr>\n",
       "    <tr>\n",
       "      <th>2</th>\n",
       "      <td>alonzo feels.</td>\n",
       "      <td>anger</td>\n",
       "      <td>0</td>\n",
       "      <td>-0.111224</td>\n",
       "      <td>0.153541</td>\n",
       "      <td>-0.136784</td>\n",
       "      <td>-0.151700</td>\n",
       "    </tr>\n",
       "    <tr>\n",
       "      <th>3</th>\n",
       "      <td>alonzo feels.</td>\n",
       "      <td>anger</td>\n",
       "      <td>0</td>\n",
       "      <td>-0.111227</td>\n",
       "      <td>0.153538</td>\n",
       "      <td>-0.136794</td>\n",
       "      <td>-0.151705</td>\n",
       "    </tr>\n",
       "    <tr>\n",
       "      <th>4</th>\n",
       "      <td>alonzo feels.</td>\n",
       "      <td>anger</td>\n",
       "      <td>0</td>\n",
       "      <td>-0.111222</td>\n",
       "      <td>0.153542</td>\n",
       "      <td>-0.136792</td>\n",
       "      <td>-0.151700</td>\n",
       "    </tr>\n",
       "    <tr>\n",
       "      <th>...</th>\n",
       "      <td>...</td>\n",
       "      <td>...</td>\n",
       "      <td>...</td>\n",
       "      <td>...</td>\n",
       "      <td>...</td>\n",
       "      <td>...</td>\n",
       "      <td>...</td>\n",
       "    </tr>\n",
       "    <tr>\n",
       "      <th>5595</th>\n",
       "      <td>the conversation with ellen was.</td>\n",
       "      <td>joy</td>\n",
       "      <td>2</td>\n",
       "      <td>-0.111228</td>\n",
       "      <td>0.153538</td>\n",
       "      <td>-0.136786</td>\n",
       "      <td>-0.151697</td>\n",
       "    </tr>\n",
       "    <tr>\n",
       "      <th>5596</th>\n",
       "      <td>the conversation with ellen was.</td>\n",
       "      <td>joy</td>\n",
       "      <td>2</td>\n",
       "      <td>-0.111229</td>\n",
       "      <td>0.153539</td>\n",
       "      <td>-0.136787</td>\n",
       "      <td>-0.151695</td>\n",
       "    </tr>\n",
       "    <tr>\n",
       "      <th>5597</th>\n",
       "      <td>the conversation with ellen was.</td>\n",
       "      <td>joy</td>\n",
       "      <td>2</td>\n",
       "      <td>-0.111229</td>\n",
       "      <td>0.153540</td>\n",
       "      <td>-0.136793</td>\n",
       "      <td>-0.151705</td>\n",
       "    </tr>\n",
       "    <tr>\n",
       "      <th>5598</th>\n",
       "      <td>the conversation with ellen was.</td>\n",
       "      <td>joy</td>\n",
       "      <td>2</td>\n",
       "      <td>-0.111225</td>\n",
       "      <td>0.153544</td>\n",
       "      <td>-0.136784</td>\n",
       "      <td>-0.151701</td>\n",
       "    </tr>\n",
       "    <tr>\n",
       "      <th>5599</th>\n",
       "      <td>the conversation with ellen was.</td>\n",
       "      <td>joy</td>\n",
       "      <td>2</td>\n",
       "      <td>-0.111227</td>\n",
       "      <td>0.153539</td>\n",
       "      <td>-0.136790</td>\n",
       "      <td>-0.151698</td>\n",
       "    </tr>\n",
       "  </tbody>\n",
       "</table>\n",
       "<p>5600 rows × 7 columns</p>\n",
       "</div>"
      ],
      "text/plain": [
       "                                  text  label  true_labels     anger  \\\n",
       "0                        alonzo feels.  anger            0 -0.111231   \n",
       "1                        alonzo feels.  anger            0 -0.111230   \n",
       "2                        alonzo feels.  anger            0 -0.111224   \n",
       "3                        alonzo feels.  anger            0 -0.111227   \n",
       "4                        alonzo feels.  anger            0 -0.111222   \n",
       "...                                ...    ...          ...       ...   \n",
       "5595  the conversation with ellen was.    joy            2 -0.111228   \n",
       "5596  the conversation with ellen was.    joy            2 -0.111229   \n",
       "5597  the conversation with ellen was.    joy            2 -0.111229   \n",
       "5598  the conversation with ellen was.    joy            2 -0.111225   \n",
       "5599  the conversation with ellen was.    joy            2 -0.111227   \n",
       "\n",
       "          fear       joy   sadness  \n",
       "0     0.153536 -0.136789 -0.151701  \n",
       "1     0.153540 -0.136786 -0.151704  \n",
       "2     0.153541 -0.136784 -0.151700  \n",
       "3     0.153538 -0.136794 -0.151705  \n",
       "4     0.153542 -0.136792 -0.151700  \n",
       "...        ...       ...       ...  \n",
       "5595  0.153538 -0.136786 -0.151697  \n",
       "5596  0.153539 -0.136787 -0.151695  \n",
       "5597  0.153540 -0.136793 -0.151705  \n",
       "5598  0.153544 -0.136784 -0.151701  \n",
       "5599  0.153539 -0.136790 -0.151698  \n",
       "\n",
       "[5600 rows x 7 columns]"
      ]
     },
     "execution_count": 14,
     "metadata": {},
     "output_type": "execute_result"
    }
   ],
   "source": [
    "test_factual_dt"
   ]
  },
  {
   "cell_type": "code",
   "execution_count": 17,
   "metadata": {},
   "outputs": [],
   "source": [
    "test_counterfactual_dict= {'text': [], 'label': list(optimal_result['actual_y'])\\\n",
    "            , 'true_labels': list(optimal_result['true_labels'])\\\n",
    "            , 'anger': [], 'fear': [], 'joy': [], 'sadness': []}\n",
    "for input in optimal_result['actual_x']:\n",
    "  test_counterfactual_dict['text'].append(' '.join(input.split('____'))+'.')\n",
    "\n",
    "for input in optimal_result['counterfactual_outputs']:\n",
    "  test_counterfactual_dict['anger'].append(input[0]) \n",
    "  test_counterfactual_dict['fear'].append(input[1]) \n",
    "  test_counterfactual_dict['joy'].append(input[2]) \n",
    "  test_counterfactual_dict['sadness'].append(input[3]) \n",
    "\n",
    "test_counterfactual_dt= pd.DataFrame(test_counterfactual_dict)\n"
   ]
  },
  {
   "cell_type": "code",
   "execution_count": 18,
   "metadata": {},
   "outputs": [
    {
     "data": {
      "text/html": [
       "<div>\n",
       "<style scoped>\n",
       "    .dataframe tbody tr th:only-of-type {\n",
       "        vertical-align: middle;\n",
       "    }\n",
       "\n",
       "    .dataframe tbody tr th {\n",
       "        vertical-align: top;\n",
       "    }\n",
       "\n",
       "    .dataframe thead th {\n",
       "        text-align: right;\n",
       "    }\n",
       "</style>\n",
       "<table border=\"1\" class=\"dataframe\">\n",
       "  <thead>\n",
       "    <tr style=\"text-align: right;\">\n",
       "      <th></th>\n",
       "      <th>text</th>\n",
       "      <th>label</th>\n",
       "      <th>true_labels</th>\n",
       "      <th>anger</th>\n",
       "      <th>fear</th>\n",
       "      <th>joy</th>\n",
       "      <th>sadness</th>\n",
       "    </tr>\n",
       "  </thead>\n",
       "  <tbody>\n",
       "    <tr>\n",
       "      <th>0</th>\n",
       "      <td>alonzo feels angry..</td>\n",
       "      <td>anger</td>\n",
       "      <td>0</td>\n",
       "      <td>-1.314282e-05</td>\n",
       "      <td>-1.104176e-05</td>\n",
       "      <td>-6.020069e-06</td>\n",
       "      <td>-5.543232e-06</td>\n",
       "    </tr>\n",
       "    <tr>\n",
       "      <th>1</th>\n",
       "      <td>alonzo feels furious..</td>\n",
       "      <td>anger</td>\n",
       "      <td>0</td>\n",
       "      <td>-1.180172e-05</td>\n",
       "      <td>-6.720424e-06</td>\n",
       "      <td>-3.129244e-06</td>\n",
       "      <td>-8.836389e-06</td>\n",
       "    </tr>\n",
       "    <tr>\n",
       "      <th>2</th>\n",
       "      <td>alonzo feels irritated..</td>\n",
       "      <td>anger</td>\n",
       "      <td>0</td>\n",
       "      <td>-5.543232e-06</td>\n",
       "      <td>-5.483627e-06</td>\n",
       "      <td>-9.238720e-07</td>\n",
       "      <td>-4.157424e-06</td>\n",
       "    </tr>\n",
       "    <tr>\n",
       "      <th>3</th>\n",
       "      <td>alonzo feels enraged..</td>\n",
       "      <td>anger</td>\n",
       "      <td>0</td>\n",
       "      <td>-9.119511e-06</td>\n",
       "      <td>-8.508563e-06</td>\n",
       "      <td>-1.080334e-05</td>\n",
       "      <td>-9.477139e-06</td>\n",
       "    </tr>\n",
       "    <tr>\n",
       "      <th>4</th>\n",
       "      <td>alonzo feels annoyed..</td>\n",
       "      <td>anger</td>\n",
       "      <td>0</td>\n",
       "      <td>-3.382564e-06</td>\n",
       "      <td>-4.515052e-06</td>\n",
       "      <td>-8.538365e-06</td>\n",
       "      <td>-4.321337e-06</td>\n",
       "    </tr>\n",
       "    <tr>\n",
       "      <th>...</th>\n",
       "      <td>...</td>\n",
       "      <td>...</td>\n",
       "      <td>...</td>\n",
       "      <td>...</td>\n",
       "      <td>...</td>\n",
       "      <td>...</td>\n",
       "      <td>...</td>\n",
       "    </tr>\n",
       "    <tr>\n",
       "      <th>5595</th>\n",
       "      <td>the conversation with ellen was funny..</td>\n",
       "      <td>joy</td>\n",
       "      <td>2</td>\n",
       "      <td>-1.311302e-06</td>\n",
       "      <td>-6.690621e-06</td>\n",
       "      <td>-7.584691e-06</td>\n",
       "      <td>-5.960464e-07</td>\n",
       "    </tr>\n",
       "    <tr>\n",
       "      <th>5596</th>\n",
       "      <td>the conversation with ellen was hilarious..</td>\n",
       "      <td>joy</td>\n",
       "      <td>2</td>\n",
       "      <td>-1.952052e-06</td>\n",
       "      <td>-6.064773e-06</td>\n",
       "      <td>-9.134412e-06</td>\n",
       "      <td>1.415610e-06</td>\n",
       "    </tr>\n",
       "    <tr>\n",
       "      <th>5597</th>\n",
       "      <td>the conversation with ellen was amazing..</td>\n",
       "      <td>joy</td>\n",
       "      <td>2</td>\n",
       "      <td>-1.683831e-06</td>\n",
       "      <td>-4.261732e-06</td>\n",
       "      <td>-1.510978e-05</td>\n",
       "      <td>-8.940697e-06</td>\n",
       "    </tr>\n",
       "    <tr>\n",
       "      <th>5598</th>\n",
       "      <td>the conversation with ellen was wonderful..</td>\n",
       "      <td>joy</td>\n",
       "      <td>2</td>\n",
       "      <td>2.294779e-06</td>\n",
       "      <td>-7.748604e-07</td>\n",
       "      <td>-6.139278e-06</td>\n",
       "      <td>-4.857779e-06</td>\n",
       "    </tr>\n",
       "    <tr>\n",
       "      <th>5599</th>\n",
       "      <td>the conversation with ellen was great..</td>\n",
       "      <td>joy</td>\n",
       "      <td>2</td>\n",
       "      <td>4.470348e-08</td>\n",
       "      <td>-6.005168e-06</td>\n",
       "      <td>-1.205504e-05</td>\n",
       "      <td>-1.788139e-06</td>\n",
       "    </tr>\n",
       "  </tbody>\n",
       "</table>\n",
       "<p>5600 rows × 7 columns</p>\n",
       "</div>"
      ],
      "text/plain": [
       "                                             text  label  true_labels  \\\n",
       "0                            alonzo feels angry..  anger            0   \n",
       "1                          alonzo feels furious..  anger            0   \n",
       "2                        alonzo feels irritated..  anger            0   \n",
       "3                          alonzo feels enraged..  anger            0   \n",
       "4                          alonzo feels annoyed..  anger            0   \n",
       "...                                           ...    ...          ...   \n",
       "5595      the conversation with ellen was funny..    joy            2   \n",
       "5596  the conversation with ellen was hilarious..    joy            2   \n",
       "5597    the conversation with ellen was amazing..    joy            2   \n",
       "5598  the conversation with ellen was wonderful..    joy            2   \n",
       "5599      the conversation with ellen was great..    joy            2   \n",
       "\n",
       "             anger          fear           joy       sadness  \n",
       "0    -1.314282e-05 -1.104176e-05 -6.020069e-06 -5.543232e-06  \n",
       "1    -1.180172e-05 -6.720424e-06 -3.129244e-06 -8.836389e-06  \n",
       "2    -5.543232e-06 -5.483627e-06 -9.238720e-07 -4.157424e-06  \n",
       "3    -9.119511e-06 -8.508563e-06 -1.080334e-05 -9.477139e-06  \n",
       "4    -3.382564e-06 -4.515052e-06 -8.538365e-06 -4.321337e-06  \n",
       "...            ...           ...           ...           ...  \n",
       "5595 -1.311302e-06 -6.690621e-06 -7.584691e-06 -5.960464e-07  \n",
       "5596 -1.952052e-06 -6.064773e-06 -9.134412e-06  1.415610e-06  \n",
       "5597 -1.683831e-06 -4.261732e-06 -1.510978e-05 -8.940697e-06  \n",
       "5598  2.294779e-06 -7.748604e-07 -6.139278e-06 -4.857779e-06  \n",
       "5599  4.470348e-08 -6.005168e-06 -1.205504e-05 -1.788139e-06  \n",
       "\n",
       "[5600 rows x 7 columns]"
      ]
     },
     "execution_count": 18,
     "metadata": {},
     "output_type": "execute_result"
    }
   ],
   "source": [
    "test_counterfactual_dt"
   ]
  },
  {
   "cell_type": "code",
   "execution_count": null,
   "metadata": {},
   "outputs": [],
   "source": []
  }
 ],
 "metadata": {
  "kernelspec": {
   "display_name": "isd",
   "language": "python",
   "name": "python3"
  },
  "language_info": {
   "codemirror_mode": {
    "name": "ipython",
    "version": 3
   },
   "file_extension": ".py",
   "mimetype": "text/x-python",
   "name": "python",
   "nbconvert_exporter": "python",
   "pygments_lexer": "ipython3",
   "version": "3.8.13"
  },
  "orig_nbformat": 4
 },
 "nbformat": 4,
 "nbformat_minor": 2
}
