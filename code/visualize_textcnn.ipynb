{
 "cells": [
  {
   "cell_type": "code",
   "execution_count": 1,
   "metadata": {},
   "outputs": [],
   "source": [
    "import torch\n",
    "import numpy as np\n",
    "from sklearn.decomposition import PCA "
   ]
  },
  {
   "cell_type": "code",
   "execution_count": 2,
   "metadata": {},
   "outputs": [
    {
     "name": "stderr",
     "output_type": "stream",
     "text": [
      "2023-05-06 14:21:40.391458: I tensorflow/core/platform/cpu_feature_guard.cc:193] This TensorFlow binary is optimized with oneAPI Deep Neural Network Library (oneDNN) to use the following CPU instructions in performance-critical operations:  AVX2 FMA\n",
      "To enable them in other operations, rebuild TensorFlow with the appropriate compiler flags.\n",
      "2023-05-06 14:21:40.527376: E tensorflow/stream_executor/cuda/cuda_blas.cc:2981] Unable to register cuBLAS factory: Attempting to register factory for plugin cuBLAS when one has already been registered\n",
      "2023-05-06 14:21:41.044713: W tensorflow/stream_executor/platform/default/dso_loader.cc:64] Could not load dynamic library 'libnvinfer.so.7'; dlerror: libnvinfer.so.7: cannot open shared object file: No such file or directory\n",
      "2023-05-06 14:21:41.044767: W tensorflow/stream_executor/platform/default/dso_loader.cc:64] Could not load dynamic library 'libnvinfer_plugin.so.7'; dlerror: libnvinfer_plugin.so.7: cannot open shared object file: No such file or directory\n",
      "2023-05-06 14:21:41.044772: W tensorflow/compiler/tf2tensorrt/utils/py_utils.cc:38] TF-TRT Warning: Cannot dlopen some TensorRT libraries. If you would like to use Nvidia GPU with TensorRT, please make sure the missing libraries mentioned above are installed properly.\n"
     ]
    }
   ],
   "source": [
    "from MyModel_EEC import RoBERTa, RoBERTa_vis, TextCNN, TextCNN_vis\n",
    "from MyData_NER import MyDataset_TextCNN\n",
    "torch.hub._validate_not_a_forked_repo=lambda a,b,c: True"
   ]
  },
  {
   "cell_type": "code",
   "execution_count": 3,
   "metadata": {},
   "outputs": [],
   "source": [
    "import os\n",
    "os.environ['CUDA_VISIBLE_DEVICES']='1'\n",
    "\n",
    "model = TextCNN_vis()"
   ]
  },
  {
   "cell_type": "code",
   "execution_count": 4,
   "metadata": {},
   "outputs": [
    {
     "data": {
      "text/plain": [
       "<All keys matched successfully>"
      ]
     },
     "execution_count": 4,
     "metadata": {},
     "output_type": "execute_result"
    }
   ],
   "source": [
    "\n",
    "model.load_state_dict(torch.load('../saves_textcnn_in/TextCNN_EL_oc_model_pt_epoch_17.pt', map_location='cpu'))"
   ]
  },
  {
   "cell_type": "code",
   "execution_count": 28,
   "metadata": {},
   "outputs": [],
   "source": [
    "# roberta = torch.hub.load('pytorch/fairseq', 'roberta.base')\n",
    "# embedding = model.embedding\n",
    "# roberta = model.roberta"
   ]
  },
  {
   "cell_type": "code",
   "execution_count": 5,
   "metadata": {},
   "outputs": [],
   "source": [
    "text_male = 'he son his him father man boy himself male brother sons fathers men boys males brothers uncle uncles nephew nephews'\n",
    "text_female = 'she daughter hers her mother woman girl herself female sister daughters mothers women girls females sisters aunt aunts niece nieces'"
   ]
  },
  {
   "cell_type": "code",
   "execution_count": 6,
   "metadata": {},
   "outputs": [],
   "source": [
    "text_male = 'he son his him father man boy himself male brother'\n",
    "text_female = 'she daughter hers her mother woman girl herself female sister'"
   ]
  },
  {
   "cell_type": "code",
   "execution_count": 7,
   "metadata": {},
   "outputs": [
    {
     "name": "stdout",
     "output_type": "stream",
     "text": [
      "he she son daughter his hers him her father mother man woman boy girl himself herself male female brother sister\n"
     ]
    }
   ],
   "source": [
    "text_male = text_male.split(' ')\n",
    "text_female = text_female.split(' ')\n",
    "\n",
    "new_ls=[ ]\n",
    "for i in range(len(text_male)):\n",
    "    new_ls.append(text_male[i] + ' ' + text_female[i])\n",
    "\n",
    "# print(new_ls)\n",
    "new_ls = ' '.join(new_ls)\n",
    "print(new_ls)\n",
    "# tokens = roberta.encode(text)\n",
    "# print(roberta.decode(tokens))\n"
   ]
  },
  {
   "cell_type": "code",
   "execution_count": 10,
   "metadata": {},
   "outputs": [
    {
     "name": "stdout",
     "output_type": "stream",
     "text": [
      "\u001b[34mPickle Read\u001b[0m\n"
     ]
    }
   ],
   "source": [
    "from _main_NER_EEC import *\n",
    "w2v_path = '/home/weicheng/NLU/Corsair/w2v/glove.840B.300d.txt'\n",
    "w2v_pickle = w2v_path + '.pickle'\n",
    "if os.path.exists(w2v_pickle)==False:\n",
    "    wv, word2id = KeyedVectors.load_word2vec_format(w2v_path, binary=False), {}\n",
    "    for i, word in enumerate(wv.index2word): word2id[word] = i\n",
    "    embedding = nn.Embedding.from_pretrained(torch.FloatTensor(wv.vectors))\n",
    "    pb.Pickle_Save([embedding, word2id], w2v_pickle)\n",
    "else:\n",
    "    [embedding, word2id] = pb.Pickle_Read(w2v_pickle)\n",
    "embedding.weight.requires_grad = False"
   ]
  },
  {
   "cell_type": "code",
   "execution_count": 15,
   "metadata": {},
   "outputs": [
    {
     "name": "stdout",
     "output_type": "stream",
     "text": [
      "10\n",
      "10\n"
     ]
    }
   ],
   "source": [
    "# myAllDataset = MyDataset_TextCNN()\n",
    "# test_dataset  = MyDataset_TextCNN(embedding, word2id, examples=['male', 'female'])\n",
    "male_text = []\n",
    "print(len(text_male))\n",
    "for word in text_male:\n",
    "    if word in word2id:\n",
    "        vector = embedding.weight[word2id[word]]\n",
    "        male_text.append(vector)\n",
    "    elif word.lower() in word2id:\n",
    "        vector = embedding.weight[word2id[word.lower()]]\n",
    "        male_text.append(vector)\n",
    "\n",
    "print(len(male_text))"
   ]
  },
  {
   "cell_type": "code",
   "execution_count": 21,
   "metadata": {},
   "outputs": [
    {
     "name": "stdout",
     "output_type": "stream",
     "text": [
      "torch.Size([300])\n"
     ]
    }
   ],
   "source": [
    "print(male_text[0].shape)"
   ]
  },
  {
   "cell_type": "code",
   "execution_count": 16,
   "metadata": {},
   "outputs": [
    {
     "name": "stdout",
     "output_type": "stream",
     "text": [
      "10\n",
      "10\n"
     ]
    }
   ],
   "source": [
    "female_text = []\n",
    "print(len(text_female))\n",
    "for word in text_female:\n",
    "    if word in word2id:\n",
    "        vector = embedding.weight[word2id[word]]\n",
    "        female_text.append(vector)\n",
    "    elif word.lower() in word2id:\n",
    "        vector = embedding.weight[word2id[word.lower()]]\n",
    "        female_text.append(vector)\n",
    "\n",
    "print(len(female_text))"
   ]
  },
  {
   "cell_type": "code",
   "execution_count": 28,
   "metadata": {},
   "outputs": [],
   "source": [
    "last_layer_features=[ ]\n",
    "for i in range(len(text_male)):\n",
    "    last_layer_features.append(male_text[i])\n",
    "    last_layer_features.append(female_text[i])"
   ]
  },
  {
   "cell_type": "code",
   "execution_count": 29,
   "metadata": {},
   "outputs": [
    {
     "name": "stdout",
     "output_type": "stream",
     "text": [
      "[torch.Size([300]), torch.Size([300]), torch.Size([300]), torch.Size([300]), torch.Size([300]), torch.Size([300]), torch.Size([300]), torch.Size([300]), torch.Size([300]), torch.Size([300]), torch.Size([300]), torch.Size([300]), torch.Size([300]), torch.Size([300]), torch.Size([300]), torch.Size([300]), torch.Size([300]), torch.Size([300]), torch.Size([300]), torch.Size([300])]\n"
     ]
    }
   ],
   "source": [
    "# last_layer_features = np.array(last_layer_features)\n",
    "print([last_layer_features[i].shape for i in range(len(last_layer_features))])"
   ]
  },
  {
   "cell_type": "code",
   "execution_count": 30,
   "metadata": {},
   "outputs": [],
   "source": [
    "last_layer_features = torch.stack(last_layer_features, dim=0)"
   ]
  },
  {
   "cell_type": "code",
   "execution_count": 17,
   "metadata": {},
   "outputs": [
    {
     "data": {
      "text/plain": [
       "torch.Size([300])"
      ]
     },
     "execution_count": 17,
     "metadata": {},
     "output_type": "execute_result"
    }
   ],
   "source": [
    "female_text[0].shape"
   ]
  },
  {
   "cell_type": "code",
   "execution_count": 31,
   "metadata": {},
   "outputs": [
    {
     "name": "stdout",
     "output_type": "stream",
     "text": [
      "torch.Size([20, 300])\n"
     ]
    }
   ],
   "source": [
    "# tokens = roberta.encode(new_ls)\n",
    "# print(roberta.decode(tokens))\n",
    "# last_layer_features = roberta.extract_features(tokens)\n",
    "print(last_layer_features.shape)"
   ]
  },
  {
   "cell_type": "code",
   "execution_count": 30,
   "metadata": {},
   "outputs": [
    {
     "data": {
      "text/plain": [
       "torch.Size([1, 20, 768])"
      ]
     },
     "execution_count": 30,
     "metadata": {},
     "output_type": "execute_result"
    }
   ],
   "source": [
    "last_layer_features[0:1, 1:-1].shape"
   ]
  },
  {
   "cell_type": "code",
   "execution_count": 32,
   "metadata": {},
   "outputs": [],
   "source": [
    "def doPCA(pairs, num_components=10):\n",
    "    matrix = []\n",
    "    for i in range(0, len(pairs)-1, 2):\n",
    "        a = pairs[i]\n",
    "        b = pairs[i+1]\n",
    "    # for a, b in pairs:\n",
    "        center = (a+b)/2\n",
    "        matrix.append(a-center)\n",
    "        matrix.append(b-center)\n",
    "    matrix = np.array(matrix)\n",
    "    pca = PCA(n_components=num_components)\n",
    "    pca.fit(matrix)\n",
    "    return pca"
   ]
  },
  {
   "cell_type": "code",
   "execution_count": 34,
   "metadata": {},
   "outputs": [],
   "source": [
    "pca = doPCA(last_layer_features.numpy(), 2)"
   ]
  },
  {
   "cell_type": "code",
   "execution_count": 35,
   "metadata": {},
   "outputs": [
    {
     "data": {
      "text/plain": [
       "(2, 300)"
      ]
     },
     "execution_count": 35,
     "metadata": {},
     "output_type": "execute_result"
    }
   ],
   "source": [
    "pca.components_.shape"
   ]
  },
  {
   "cell_type": "code",
   "execution_count": 36,
   "metadata": {},
   "outputs": [],
   "source": [
    "import matplotlib.pyplot as plt"
   ]
  },
  {
   "cell_type": "code",
   "execution_count": null,
   "metadata": {},
   "outputs": [],
   "source": [
    "## TODO: \n",
    "# def ss_calculation(text_words):\n",
    "    "
   ]
  },
  {
   "cell_type": "code",
   "execution_count": 40,
   "metadata": {},
   "outputs": [
    {
     "name": "stdout",
     "output_type": "stream",
     "text": [
      "38\n",
      "38\n"
     ]
    }
   ],
   "source": [
    "text_words = 'joy sad pride'\n",
    "\n",
    "emotion_word_dict= {'joy': ['ecstatic', 'excited', 'glad', 'happy', 'relieved'],\n",
    "                    'sadness': ['depressed', 'devastated', 'disappointed', 'miserable', 'sad'],\n",
    "                    'fear': ['anxious', 'discouraged', 'fearful', 'scared', 'terrified'],\n",
    "                    'anger': ['angry', 'annoyed', 'enraged', 'furious', 'irritated']}\n",
    "\n",
    "emotional_situation_word_dict= {'joy': ['amazing', 'funny', 'great', 'hilarious', 'wonderful'],\n",
    "                                'sadness': ['depressing', 'gloomy', 'grim', 'heartbreaking', 'serious'],\n",
    "                                'fear': ['dreadful', 'horrible', 'shocking', 'terrifying', 'threatening'],\n",
    "                                'anger': ['annoying', 'displeasing', 'irritating', 'outrageous', 'vexing']}\n",
    "\n",
    "text_words = ['angry', 'furious', 'irritated', 'enraged', 'annoyed', 'sad',\n",
    "       'depressed', 'devastated', 'miserable', 'disappointed',\n",
    "       'terrified', 'discouraged', 'scared', 'anxious', 'fearful',\n",
    "       'happy', 'ecstatic', 'glad', 'relieved', 'excited', \n",
    "       'irritating', 'outrageous', 'annoying',\n",
    "       'depressing', 'serious', 'grim', 'heartbreaking', 'gloomy',\n",
    "       'horrible', 'threatening', 'terrifying', 'shocking', 'dreadful',\n",
    "       'funny', 'hilarious', 'amazing', 'wonderful', 'great']\n",
    "\n",
    "# 'vexing', 'displeasing'\n",
    "\n",
    "# print(len(text_words))\n",
    "# text_words = ' '.join(text_words)\n",
    "# for i in range(len(text_words)):\n",
    "# word = text_words[i]\n",
    "# tokens = roberta.encode(text_words)\n",
    "# print(len(tokens))\n",
    "# # print(roberta.decode(tokens))\n",
    "# print([roberta.decode(t.unsqueeze(0)) for t in tokens])\n",
    "# # print(roberta.decode(tokens))\n",
    "# last_layer_features = roberta.extract_features(tokens)\n",
    "\n",
    "last_layer_features = []\n",
    "print(len(text_words))\n",
    "for word in text_words:\n",
    "    if word in word2id:\n",
    "        vector = embedding.weight[word2id[word]]\n",
    "        last_layer_features.append(vector)\n",
    "    elif word.lower() in word2id:\n",
    "        vector = embedding.weight[word2id[word.lower()]]\n",
    "        last_layer_features.append(vector)\n",
    "    else:\n",
    "        print(word)\n",
    "\n",
    "print(len(last_layer_features))"
   ]
  },
  {
   "cell_type": "code",
   "execution_count": 49,
   "metadata": {},
   "outputs": [
    {
     "name": "stdout",
     "output_type": "stream",
     "text": [
      "['', ' angry', '']\n"
     ]
    }
   ],
   "source": [
    "tens = torch.tensor([0, 5800, 0])\n",
    "print([roberta.decode(t.unsqueeze(0)) for t in tens])"
   ]
  },
  {
   "cell_type": "code",
   "execution_count": 41,
   "metadata": {},
   "outputs": [
    {
     "ename": "AttributeError",
     "evalue": "'list' object has no attribute 'shape'",
     "output_type": "error",
     "traceback": [
      "\u001b[0;31m---------------------------------------------------------------------------\u001b[0m",
      "\u001b[0;31mAttributeError\u001b[0m                            Traceback (most recent call last)",
      "\u001b[1;32m/home/weicheng/NLU/NLU_debias/code/visualize_textcnn.ipynb Cell 26\u001b[0m in \u001b[0;36m<cell line: 1>\u001b[0;34m()\u001b[0m\n\u001b[0;32m----> <a href='vscode-notebook-cell://ssh-remote%2B7b22686f73744e616d65223a224c616d626461227d/home/weicheng/NLU/NLU_debias/code/visualize_textcnn.ipynb#X23sdnNjb2RlLXJlbW90ZQ%3D%3D?line=0'>1</a>\u001b[0m last_layer_features\u001b[39m.\u001b[39;49mshape\n",
      "\u001b[0;31mAttributeError\u001b[0m: 'list' object has no attribute 'shape'"
     ]
    }
   ],
   "source": [
    "last_layer_features.shape"
   ]
  },
  {
   "cell_type": "code",
   "execution_count": 42,
   "metadata": {},
   "outputs": [],
   "source": [
    "new_word = torch.stack(last_layer_features, dim=0).numpy()"
   ]
  },
  {
   "cell_type": "code",
   "execution_count": 43,
   "metadata": {},
   "outputs": [],
   "source": [
    "x_axis, y_axis = pca.components_"
   ]
  },
  {
   "cell_type": "code",
   "execution_count": 44,
   "metadata": {},
   "outputs": [
    {
     "name": "stdout",
     "output_type": "stream",
     "text": [
      "(300,)\n",
      "(38, 300)\n"
     ]
    }
   ],
   "source": [
    "print(x_axis.shape)\n",
    "print(new_word.shape)"
   ]
  },
  {
   "cell_type": "code",
   "execution_count": 46,
   "metadata": {},
   "outputs": [],
   "source": [
    "new_word = torch.tensor(new_word)"
   ]
  },
  {
   "cell_type": "code",
   "execution_count": 47,
   "metadata": {},
   "outputs": [],
   "source": [
    "proj_x = torch.matmul(new_word, torch.tensor(x_axis).unsqueeze(1))/torch.norm(torch.tensor(x_axis))"
   ]
  },
  {
   "cell_type": "code",
   "execution_count": 48,
   "metadata": {},
   "outputs": [],
   "source": [
    "proj_x.shape\n",
    "proj_x = proj_x.squeeze().detach().numpy()"
   ]
  },
  {
   "cell_type": "code",
   "execution_count": 49,
   "metadata": {},
   "outputs": [],
   "source": [
    "proj_y = torch.matmul(new_word, torch.tensor(y_axis).unsqueeze(1))/torch.norm(torch.tensor(y_axis))"
   ]
  },
  {
   "cell_type": "code",
   "execution_count": 50,
   "metadata": {},
   "outputs": [],
   "source": [
    "proj_y.shape\n",
    "proj_y = proj_y.squeeze().detach().numpy()"
   ]
  },
  {
   "cell_type": "code",
   "execution_count": 52,
   "metadata": {},
   "outputs": [
    {
     "data": {
      "image/png": "[encoded data removed]",
      "text/plain": [
       "<Figure size 800x800 with 1 Axes>"
      ]
     },
     "metadata": {},
     "output_type": "display_data"
    }
   ],
   "source": [
    "# plt.scatter(proj_x.squeeze().detach().numpy(), proj_y.squeeze().detach().numpy(), \n",
    "#             )\n",
    "reversed = {'ecstatic': 'joy',\n",
    " 'excited': 'joy',\n",
    " 'glad': 'joy',\n",
    " 'happy': 'joy',\n",
    " 'relieved': 'joy',\n",
    " 'depressed': 'sadness',\n",
    " 'devastated': 'sadness',\n",
    " 'disappointed': 'sadness',\n",
    " 'miserable': 'sadness',\n",
    " 'sad': 'sadness',\n",
    " 'anxious': 'fear',\n",
    " 'discouraged': 'fear',\n",
    " 'fearful': 'fear',\n",
    " 'scared': 'fear',\n",
    " 'terrified': 'fear',\n",
    " 'angry': 'anger',\n",
    " 'annoyed': 'anger',\n",
    " 'enraged': 'anger',\n",
    " 'furious': 'anger',\n",
    " 'irritated': 'anger',\n",
    " 'amazing': 'joy',\n",
    " 'funny': 'joy',\n",
    " 'great': 'joy',\n",
    " 'hilarious': 'joy',\n",
    " 'wonderful': 'joy',\n",
    " 'depressing': 'sadness',\n",
    " 'gloomy': 'sadness',\n",
    " 'grim': 'sadness',\n",
    " 'heartbreaking': 'sadness',\n",
    " 'serious': 'sadness',\n",
    " 'dreadful': 'fear',\n",
    " 'horrible': 'fear',\n",
    " 'shocking': 'fear',\n",
    " 'terrifying': 'fear',\n",
    " 'threatening': 'fear',\n",
    " 'annoying': 'anger',\n",
    " 'displeasing': 'anger',\n",
    " 'irritating': 'anger',\n",
    " 'outrageous': 'anger',\n",
    " 'vexing': 'anger'}\n",
    "\n",
    "text_words = ['angry', 'furious', 'irritated', 'enraged', 'annoyed', 'sad',\n",
    "       'depressed', 'devastated', 'miserable', 'disappointed',\n",
    "       'terrified', 'discouraged', 'scared', 'anxious', 'fearful',\n",
    "       'happy', 'ecstatic', 'glad', 'relieved', 'excited', \n",
    "       'irritating', 'outrageous', 'annoying',\n",
    "       'depressing', 'serious', 'grim', 'heartbreaking', 'gloomy',\n",
    "       'horrible', 'threatening', 'terrifying', 'shocking', 'dreadful',\n",
    "       'funny', 'hilarious', 'amazing', 'wonderful', 'great']\n",
    "\n",
    "color = {'fear':'blue', 'anger':'red', 'sadness':'green', 'joy':'orange'}\n",
    "\n",
    "fig, ax = plt.subplots(figsize=(8, 8))\n",
    "for i, txt in enumerate(text_words):\n",
    "    ax.annotate(reversed[txt], (proj_x[i], proj_y[i]))\n",
    "    ax.scatter(proj_x[i], proj_y[i], c=[color[reversed[txt]],])"
   ]
  },
  {
   "cell_type": "code",
   "execution_count": 58,
   "metadata": {},
   "outputs": [
    {
     "data": {
      "image/png": "[encoded data removed]",
      "text/plain": [
       "<Figure size 1500x1500 with 1 Axes>"
      ]
     },
     "metadata": {},
     "output_type": "display_data"
    }
   ],
   "source": [
    "# plt.scatter(proj_x.squeeze().detach().numpy(), proj_y.squeeze().detach().numpy(), \n",
    "#             )\n",
    "reversed = {'ecstatic': 'joy',\n",
    " 'excited': 'joy',\n",
    " 'glad': 'joy',\n",
    " 'happy': 'joy',\n",
    " 'relieved': 'joy',\n",
    " 'depressed': 'sadness',\n",
    " 'devastated': 'sadness',\n",
    " 'disappointed': 'sadness',\n",
    " 'miserable': 'sadness',\n",
    " 'sad': 'sadness',\n",
    " 'anxious': 'fear',\n",
    " 'discouraged': 'fear',\n",
    " 'fearful': 'fear',\n",
    " 'scared': 'fear',\n",
    " 'terrified': 'fear',\n",
    " 'angry': 'anger',\n",
    " 'annoyed': 'anger',\n",
    " 'enraged': 'anger',\n",
    " 'furious': 'anger',\n",
    " 'irritated': 'anger',\n",
    " 'amazing': 'joy',\n",
    " 'funny': 'joy',\n",
    " 'great': 'joy',\n",
    " 'hilarious': 'joy',\n",
    " 'wonderful': 'joy',\n",
    " 'depressing': 'sadness',\n",
    " 'gloomy': 'sadness',\n",
    " 'grim': 'sadness',\n",
    " 'heartbreaking': 'sadness',\n",
    " 'serious': 'sadness',\n",
    " 'dreadful': 'fear',\n",
    " 'horrible': 'fear',\n",
    " 'shocking': 'fear',\n",
    " 'terrifying': 'fear',\n",
    " 'threatening': 'fear',\n",
    " 'annoying': 'anger',\n",
    " 'displeasing': 'anger',\n",
    " 'irritating': 'anger',\n",
    " 'outrageous': 'anger',\n",
    " 'vexing': 'anger'}\n",
    "\n",
    "text_words = ['angry', 'furious', 'irritated', 'enraged', 'annoyed', 'sad',\n",
    "       'depressed', 'devastated', 'miserable', 'disappointed',\n",
    "       'terrified', 'discouraged', 'scared', 'anxious', 'fearful',\n",
    "       'happy', 'ecstatic', 'glad', 'relieved', 'excited', \n",
    "       'irritating', 'outrageous', 'annoying',\n",
    "       'depressing', 'serious', 'grim', 'heartbreaking', 'gloomy',\n",
    "       'horrible', 'threatening', 'terrifying', 'shocking', 'dreadful',\n",
    "       'funny', 'hilarious', 'amazing', 'wonderful', 'great']\n",
    "\n",
    "fig, ax = plt.subplots(figsize=(15, 15))\n",
    "\n",
    "# proj_x = (proj_x - proj_x.min()) / (proj_x.max() - proj_x.min())\n",
    "# proj_y = (proj_y - proj_y.min()) / (proj_y.max() - proj_y.min())\n",
    "\n",
    "ax.scatter(proj_x, proj_y, \n",
    "            )\n",
    "for i, txt in enumerate(text_words):\n",
    "    ax.annotate(reversed[txt], (proj_x[i], proj_y[i]))"
   ]
  },
  {
   "cell_type": "code",
   "execution_count": null,
   "metadata": {},
   "outputs": [],
   "source": []
  }
 ],
 "metadata": {
  "kernelspec": {
   "display_name": "isd",
   "language": "python",
   "name": "python3"
  },
  "language_info": {
   "codemirror_mode": {
    "name": "ipython",
    "version": 3
   },
   "file_extension": ".py",
   "mimetype": "text/x-python",
   "name": "python",
   "nbconvert_exporter": "python",
   "pygments_lexer": "ipython3",
   "version": "3.8.13"
  },
  "orig_nbformat": 4
 },
 "nbformat": 4,
 "nbformat_minor": 2
}
